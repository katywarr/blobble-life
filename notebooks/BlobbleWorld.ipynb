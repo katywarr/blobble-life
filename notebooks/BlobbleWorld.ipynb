{
 "cells": [
  {
   "cell_type": "code",
   "execution_count": 1,
   "metadata": {},
   "outputs": [],
   "source": [
    "import plotly.graph_objects as go\n",
    "import pandas as pd\n",
    "import numpy as np"
   ]
  },
  {
   "cell_type": "markdown",
   "metadata": {},
   "source": [
    "    \n",
    "## Action space\n",
    "\n",
    "The blobble (agent) may choose to go zero or one step in the x direction (left or right) and zero or one step in the y direction (up or down). If the blobble hits the edge of Blobble world then it will 'bounce' off the wall.\n",
    "\n",
    "The blobble may also choose to eat or not before moving. This action only has an effect if there is food at the blobble's current location.\n",
    "\n",
    "## Observation space\n",
    "\n",
    "The observation space is:\n",
    "\n",
    "* the (x,y) coordinate of the agent. The blobble starts at (0,0) which is in the centre of blobble world\n",
    "\n",
    "* the type of food (if any) at that location\n",
    "\n",
    "\n",
    "## Reward\n",
    "\n",
    "Reward is ```1``` for every step taken by the blobble.\n",
    "\n",
    "\n",
    "## Done (end condition)\n",
    "\n",
    "This is a ```boolean```. \n",
    "\n",
    "Blobble world is reset if the blobble's health dips below zero or if there is no remaining (healthy) food in blobble world. The blobble's health increases as it eats good food and decreases as it eats bad food. The blobble also becomes less healthy if it doesn't eat.\n",
    "\n",
    "## Info \n",
    "\n",
    "This is a ```dict``` with useful information for debugging.\n",
    "\n"
   ]
  },
  {
   "cell_type": "code",
   "execution_count": 27,
   "metadata": {},
   "outputs": [],
   "source": [
    "import io\n",
    "from PIL import Image\n",
    "import gym\n",
    "from gym import spaces\n",
    "\n",
    "class BlobbleEnv(gym.Env):\n",
    "    \n",
    "    metadata = {'render.modes': ['human', 'rgb']}\n",
    "    \n",
    "    def __init__(self):\n",
    "        \n",
    "        super(BlobbleEnv, self).__init__()\n",
    "        \n",
    "        self._MAX_HEALTH = 10\n",
    "        self._START_HEALTH = 5\n",
    "        max_bubble_size = 50\n",
    "        self._SIZE_REF = 2. * self._MAX_HEALTH / (max_bubble_size ** 2) # For scaling blobbles and food\n",
    "        self._MAX_LOC = 10\n",
    "        self._MIN_LOC = -10\n",
    "        self._MAX_FOOD = 100\n",
    "        \n",
    "        self._HEALTH_COLOURS =['rgb(243, 224, 247)', \n",
    "                              'rgb(228, 199, 241)',\n",
    "                              'rgb(209, 175, 232)', \n",
    "                              'rgb(185, 152, 221)',\n",
    "                              'rgb(159, 130, 206)', \n",
    "                              'rgb(130, 109, 186)',\n",
    "                              'rgb(99, 85, 159)']\n",
    "            \n",
    "        self._NUTRITION_COLOURS = ['rgb(80, 59, 46)',  # 0 brown\n",
    "                                   'rgb(168, 143, 66)', # 1 light brown\n",
    "                                   'rgb(120, 198, 121)', # 2 light green\n",
    "                                   'rgb(35, 132, 67)'    # 3 dark green\n",
    "                                  ]\n",
    "        \n",
    "    def reset(self):\n",
    "        \n",
    "        # Create New Blobble\n",
    "        self._blobble_location = np.array([0,0])     # Start Blobble in centre\n",
    "        self._blobble_health = self._START_HEALTH    # Give Blobble start health\n",
    "        \n",
    "        # Reset Blobble food locations\n",
    "        food_locs = np.unique(np.random.randint(self._MIN_LOC +1,\n",
    "                                                      self._MAX_LOC -1, \n",
    "                                                      (2, self._MAX_FOOD)), axis = 1)\n",
    "        \n",
    "        self._food = np.vstack((food_locs, np.random.randint(0, 3, len(food_locs[0]))))\n",
    "        \n",
    "        self._food_colours = np.empty(len(self._food[0]), dtype = 'object')\n",
    "        loc = 0\n",
    "        for i in self._food[2]:\n",
    "            self._food_colours[loc] = self._NUTRITION_COLOURS[i]\n",
    "            loc = loc+1\n",
    "        \n",
    "    def step(self, action):\n",
    "                \n",
    "        # Let the blobble eat, if there is food\n",
    "        if action['eat'] is True:\n",
    "            # See whether there is food at this location\n",
    "            for i in range(0, len(self._food[0])-1):\n",
    "                if ((self._blobble_location[0] == self._food[0][i]) and \n",
    "                    (self._blobble_location[1] == self._food[1][i])):\n",
    "                    # Get and delete the nutritional value \n",
    "                    self._blobble_health = self._blobble_health + ((self._food[2][i] -1) * 2)\n",
    "                     # Delete the food\n",
    "                    self._food = np.delete(self._food, i, 1)\n",
    "                    self._food_colours = np.delete(self._food_colours, i)\n",
    "                    print('yum')\n",
    "                \n",
    "        # Move the blobble\n",
    "        self._blobble_location = self._blobble_location + action['movement']\n",
    "        self._bounce() # bounce off the edges if required\n",
    "        \n",
    "        self._blobble_health = self._blobble_health + np.random.randint(-3, 3) # just random health change to start\n",
    "        if self._blobble_health < 0:\n",
    "            self._blobble_health = 0\n",
    "        if self._blobble_health > self._MAX_HEALTH:\n",
    "            self._blobble_health = self._MAX_HEALTH\n",
    "        \n",
    "        done = bool(self._blobble_health == 0) # or food left == 0?\n",
    "        \n",
    "        reward = 0.0\n",
    "        if not done:\n",
    "            reward = 1.0\n",
    "        \n",
    "        # return np.array(self.state), reward, done, {}\n",
    "            \n",
    "    def render(self, mode='human', close=False):\n",
    "\n",
    "        # Depict the food locations\n",
    "        fig = go.Figure(data = go.Scatter(\n",
    "            x = self._food[0],\n",
    "            y = self._food[1],\n",
    "            mode='markers',\n",
    "            marker=dict(\n",
    "                sizeref=self._SIZE_REF,\n",
    "                size=50,\n",
    "                symbol='asterisk-open',\n",
    "                color=self._food_colours)\n",
    "            )\n",
    "        )\n",
    "             \n",
    "        fig.add_trace(go.Scatter(\n",
    "            x = [self._blobble_location[0]],\n",
    "            y = [self._blobble_location[1]],\n",
    "            text='Blobble',\n",
    "\n",
    "            mode = 'markers',\n",
    "            marker = dict(\n",
    "                sizeref=self._SIZE_REF,\n",
    "                size=50,\n",
    "                color=self._HEALTH_COLOURS[int(self._blobble_health/self._MAX_HEALTH * (len(self._HEALTH_COLOURS) -1))],\n",
    "                line_color='rgb(140, 140, 170)')\n",
    "            )\n",
    "        )\n",
    "        \n",
    "        \n",
    "        fig.update_yaxes(automargin=True, range=[self._MIN_LOC, self._MAX_LOC], nticks=40)\n",
    "        fig.update_xaxes(automargin=True, range=[self._MIN_LOC, self._MAX_LOC], nticks=40)\n",
    "        \n",
    "        if mode == 'human':\n",
    "            fig.update_layout(\n",
    "                    width = 700,\n",
    "                    height = 600,\n",
    "                    margin = dict(r=40, l=80, b=10, t=10))\n",
    "            fig.show()\n",
    "        elif mode == 'rgb':\n",
    "            fig.update_layout(\n",
    "                    width = 1408,\n",
    "                    height = 1200,\n",
    "                    margin = dict(r=40, l=80, b=10, t=10))\n",
    "            img_as_bytes = fig.to_image(format='png')\n",
    "            np_img = np.array(Image.open(io.BytesIO(img_as_bytes)))\n",
    "            return(np_img)\n",
    "        \n",
    "    def render_print(self):\n",
    "        print('Blobble details are:')\n",
    "        print('  Health: ', self._blobble_health)\n",
    "        print('  Position x : ', self._blobble_location[0])\n",
    "        print('  Position y : ', self._blobble_location[1])\n",
    "        print('  Remaining food :', len(self._food[0]))\n",
    "        \n",
    "    def _bounce(self):\n",
    "        if self._blobble_location[0] > self._MAX_LOC:\n",
    "            self._blobble_location[0] = self._MAX_LOC - (self._blobble_location[0] - self._MAX_LOC)\n",
    "        if self._blobble_location[0] < self._MIN_LOC:\n",
    "            self._blobble_location[0] = self._MIN_LOC + (self._MIN_LOC - self._blobble_location[0])\n",
    "        if self._blobble_location[1] > self._MAX_LOC:\n",
    "            self._blobble_location[1] = self._MAX_LOC - (self._blobble_location[1] - self._MAX_LOC)\n",
    "        if self._blobble_location[1] < self._MIN_LOC:\n",
    "            self._blobble_location[1] = self._MIN_LOC + (self._MIN_LOC - self._blobble_location[1])\n"
   ]
  },
  {
   "cell_type": "code",
   "execution_count": 28,
   "metadata": {},
   "outputs": [],
   "source": [
    "blobble_env = BlobbleEnv()\n",
    "blobble_env.reset()"
   ]
  },
  {
   "cell_type": "code",
   "execution_count": 29,
   "metadata": {},
   "outputs": [
    {
     "name": "stdout",
     "output_type": "stream",
     "text": [
      "Blobble details are:\n",
      "  Health:  5\n",
      "  Position x :  0\n",
      "  Position y :  0\n",
      "  Remaining food : 86\n"
     ]
    }
   ],
   "source": [
    "blobble_env.render_print()"
   ]
  },
  {
   "cell_type": "code",
   "execution_count": 30,
   "metadata": {},
   "outputs": [
    {
     "name": "stdout",
     "output_type": "stream",
     "text": [
      "yum\n"
     ]
    }
   ],
   "source": [
    "action = { \n",
    "            'movement' : [0, -1],\n",
    "            'eat' : True\n",
    "        }\n",
    "blobble_env.step(action)"
   ]
  },
  {
   "cell_type": "code",
   "execution_count": 31,
   "metadata": {},
   "outputs": [
    {
     "data": {
      "application/vnd.plotly.v1+json": {
       "config": {
        "plotlyServerURL": "https://plot.ly"
       },
       "data": [
        {
         "marker": {
          "color": [
           "rgb(80, 59, 46)",
           "rgb(80, 59, 46)",
           "rgb(120, 198, 121)",
           "rgb(120, 198, 121)",
           "rgb(168, 143, 66)",
           "rgb(120, 198, 121)",
           "rgb(168, 143, 66)",
           "rgb(168, 143, 66)",
           "rgb(120, 198, 121)",
           "rgb(80, 59, 46)",
           "rgb(168, 143, 66)",
           "rgb(168, 143, 66)",
           "rgb(80, 59, 46)",
           "rgb(168, 143, 66)",
           "rgb(168, 143, 66)",
           "rgb(168, 143, 66)",
           "rgb(80, 59, 46)",
           "rgb(168, 143, 66)",
           "rgb(120, 198, 121)",
           "rgb(168, 143, 66)",
           "rgb(80, 59, 46)",
           "rgb(120, 198, 121)",
           "rgb(80, 59, 46)",
           "rgb(168, 143, 66)",
           "rgb(168, 143, 66)",
           "rgb(168, 143, 66)",
           "rgb(80, 59, 46)",
           "rgb(120, 198, 121)",
           "rgb(120, 198, 121)",
           "rgb(120, 198, 121)",
           "rgb(80, 59, 46)",
           "rgb(168, 143, 66)",
           "rgb(120, 198, 121)",
           "rgb(80, 59, 46)",
           "rgb(168, 143, 66)",
           "rgb(168, 143, 66)",
           "rgb(120, 198, 121)",
           "rgb(120, 198, 121)",
           "rgb(168, 143, 66)",
           "rgb(168, 143, 66)",
           "rgb(168, 143, 66)",
           "rgb(120, 198, 121)",
           "rgb(120, 198, 121)",
           "rgb(120, 198, 121)",
           "rgb(120, 198, 121)",
           "rgb(80, 59, 46)",
           "rgb(168, 143, 66)",
           "rgb(168, 143, 66)",
           "rgb(168, 143, 66)",
           "rgb(168, 143, 66)",
           "rgb(168, 143, 66)",
           "rgb(168, 143, 66)",
           "rgb(168, 143, 66)",
           "rgb(80, 59, 46)",
           "rgb(168, 143, 66)",
           "rgb(80, 59, 46)",
           "rgb(80, 59, 46)",
           "rgb(120, 198, 121)",
           "rgb(168, 143, 66)",
           "rgb(80, 59, 46)",
           "rgb(80, 59, 46)",
           "rgb(80, 59, 46)",
           "rgb(168, 143, 66)",
           "rgb(120, 198, 121)",
           "rgb(80, 59, 46)",
           "rgb(168, 143, 66)",
           "rgb(120, 198, 121)",
           "rgb(168, 143, 66)",
           "rgb(168, 143, 66)",
           "rgb(120, 198, 121)",
           "rgb(120, 198, 121)",
           "rgb(80, 59, 46)",
           "rgb(120, 198, 121)",
           "rgb(120, 198, 121)",
           "rgb(80, 59, 46)",
           "rgb(168, 143, 66)",
           "rgb(80, 59, 46)",
           "rgb(168, 143, 66)",
           "rgb(168, 143, 66)",
           "rgb(80, 59, 46)",
           "rgb(168, 143, 66)",
           "rgb(120, 198, 121)",
           "rgb(120, 198, 121)",
           "rgb(120, 198, 121)",
           "rgb(80, 59, 46)"
          ],
          "size": 50,
          "sizeref": 0.008,
          "symbol": "asterisk-open"
         },
         "mode": "markers",
         "type": "scatter",
         "x": [
          -9,
          -9,
          -9,
          -8,
          -8,
          -8,
          -8,
          -8,
          -8,
          -8,
          -7,
          -7,
          -7,
          -7,
          -7,
          -6,
          -6,
          -6,
          -6,
          -6,
          -6,
          -5,
          -5,
          -5,
          -4,
          -4,
          -3,
          -3,
          -3,
          -3,
          -2,
          -2,
          -1,
          -1,
          -1,
          -1,
          0,
          0,
          0,
          0,
          0,
          1,
          1,
          1,
          1,
          1,
          2,
          2,
          2,
          3,
          3,
          3,
          3,
          4,
          4,
          4,
          4,
          4,
          4,
          4,
          4,
          5,
          5,
          5,
          5,
          5,
          5,
          5,
          5,
          6,
          6,
          6,
          7,
          7,
          7,
          7,
          7,
          7,
          8,
          8,
          8,
          8,
          8,
          8,
          8
         ],
         "y": [
          -8,
          -4,
          4,
          -9,
          -6,
          -3,
          -2,
          1,
          5,
          6,
          -8,
          -7,
          1,
          4,
          7,
          -7,
          -6,
          -4,
          1,
          4,
          6,
          -8,
          -6,
          6,
          2,
          7,
          -4,
          -2,
          1,
          8,
          -3,
          5,
          -3,
          3,
          5,
          7,
          -3,
          -1,
          2,
          3,
          6,
          -9,
          -6,
          -3,
          6,
          7,
          -9,
          -8,
          3,
          -7,
          -5,
          -3,
          -2,
          -8,
          -7,
          -5,
          -4,
          -1,
          0,
          4,
          5,
          -9,
          -8,
          -6,
          -1,
          3,
          6,
          7,
          8,
          -2,
          4,
          5,
          -9,
          -3,
          -1,
          3,
          5,
          7,
          -9,
          -8,
          -6,
          -3,
          0,
          3,
          6
         ]
        },
        {
         "marker": {
          "color": "rgb(209, 175, 232)",
          "line": {
           "color": "rgb(140, 140, 170)"
          },
          "size": 50,
          "sizeref": 0.008
         },
         "mode": "markers",
         "text": "Blobble",
         "type": "scatter",
         "x": [
          0
         ],
         "y": [
          -1
         ]
        }
       ],
       "layout": {
        "height": 600,
        "margin": {
         "b": 10,
         "l": 80,
         "r": 40,
         "t": 10
        },
        "template": {
         "data": {
          "bar": [
           {
            "error_x": {
             "color": "#2a3f5f"
            },
            "error_y": {
             "color": "#2a3f5f"
            },
            "marker": {
             "line": {
              "color": "#E5ECF6",
              "width": 0.5
             }
            },
            "type": "bar"
           }
          ],
          "barpolar": [
           {
            "marker": {
             "line": {
              "color": "#E5ECF6",
              "width": 0.5
             }
            },
            "type": "barpolar"
           }
          ],
          "carpet": [
           {
            "aaxis": {
             "endlinecolor": "#2a3f5f",
             "gridcolor": "white",
             "linecolor": "white",
             "minorgridcolor": "white",
             "startlinecolor": "#2a3f5f"
            },
            "baxis": {
             "endlinecolor": "#2a3f5f",
             "gridcolor": "white",
             "linecolor": "white",
             "minorgridcolor": "white",
             "startlinecolor": "#2a3f5f"
            },
            "type": "carpet"
           }
          ],
          "choropleth": [
           {
            "colorbar": {
             "outlinewidth": 0,
             "ticks": ""
            },
            "type": "choropleth"
           }
          ],
          "contour": [
           {
            "colorbar": {
             "outlinewidth": 0,
             "ticks": ""
            },
            "colorscale": [
             [
              0,
              "#0d0887"
             ],
             [
              0.1111111111111111,
              "#46039f"
             ],
             [
              0.2222222222222222,
              "#7201a8"
             ],
             [
              0.3333333333333333,
              "#9c179e"
             ],
             [
              0.4444444444444444,
              "#bd3786"
             ],
             [
              0.5555555555555556,
              "#d8576b"
             ],
             [
              0.6666666666666666,
              "#ed7953"
             ],
             [
              0.7777777777777778,
              "#fb9f3a"
             ],
             [
              0.8888888888888888,
              "#fdca26"
             ],
             [
              1,
              "#f0f921"
             ]
            ],
            "type": "contour"
           }
          ],
          "contourcarpet": [
           {
            "colorbar": {
             "outlinewidth": 0,
             "ticks": ""
            },
            "type": "contourcarpet"
           }
          ],
          "heatmap": [
           {
            "colorbar": {
             "outlinewidth": 0,
             "ticks": ""
            },
            "colorscale": [
             [
              0,
              "#0d0887"
             ],
             [
              0.1111111111111111,
              "#46039f"
             ],
             [
              0.2222222222222222,
              "#7201a8"
             ],
             [
              0.3333333333333333,
              "#9c179e"
             ],
             [
              0.4444444444444444,
              "#bd3786"
             ],
             [
              0.5555555555555556,
              "#d8576b"
             ],
             [
              0.6666666666666666,
              "#ed7953"
             ],
             [
              0.7777777777777778,
              "#fb9f3a"
             ],
             [
              0.8888888888888888,
              "#fdca26"
             ],
             [
              1,
              "#f0f921"
             ]
            ],
            "type": "heatmap"
           }
          ],
          "heatmapgl": [
           {
            "colorbar": {
             "outlinewidth": 0,
             "ticks": ""
            },
            "colorscale": [
             [
              0,
              "#0d0887"
             ],
             [
              0.1111111111111111,
              "#46039f"
             ],
             [
              0.2222222222222222,
              "#7201a8"
             ],
             [
              0.3333333333333333,
              "#9c179e"
             ],
             [
              0.4444444444444444,
              "#bd3786"
             ],
             [
              0.5555555555555556,
              "#d8576b"
             ],
             [
              0.6666666666666666,
              "#ed7953"
             ],
             [
              0.7777777777777778,
              "#fb9f3a"
             ],
             [
              0.8888888888888888,
              "#fdca26"
             ],
             [
              1,
              "#f0f921"
             ]
            ],
            "type": "heatmapgl"
           }
          ],
          "histogram": [
           {
            "marker": {
             "colorbar": {
              "outlinewidth": 0,
              "ticks": ""
             }
            },
            "type": "histogram"
           }
          ],
          "histogram2d": [
           {
            "colorbar": {
             "outlinewidth": 0,
             "ticks": ""
            },
            "colorscale": [
             [
              0,
              "#0d0887"
             ],
             [
              0.1111111111111111,
              "#46039f"
             ],
             [
              0.2222222222222222,
              "#7201a8"
             ],
             [
              0.3333333333333333,
              "#9c179e"
             ],
             [
              0.4444444444444444,
              "#bd3786"
             ],
             [
              0.5555555555555556,
              "#d8576b"
             ],
             [
              0.6666666666666666,
              "#ed7953"
             ],
             [
              0.7777777777777778,
              "#fb9f3a"
             ],
             [
              0.8888888888888888,
              "#fdca26"
             ],
             [
              1,
              "#f0f921"
             ]
            ],
            "type": "histogram2d"
           }
          ],
          "histogram2dcontour": [
           {
            "colorbar": {
             "outlinewidth": 0,
             "ticks": ""
            },
            "colorscale": [
             [
              0,
              "#0d0887"
             ],
             [
              0.1111111111111111,
              "#46039f"
             ],
             [
              0.2222222222222222,
              "#7201a8"
             ],
             [
              0.3333333333333333,
              "#9c179e"
             ],
             [
              0.4444444444444444,
              "#bd3786"
             ],
             [
              0.5555555555555556,
              "#d8576b"
             ],
             [
              0.6666666666666666,
              "#ed7953"
             ],
             [
              0.7777777777777778,
              "#fb9f3a"
             ],
             [
              0.8888888888888888,
              "#fdca26"
             ],
             [
              1,
              "#f0f921"
             ]
            ],
            "type": "histogram2dcontour"
           }
          ],
          "mesh3d": [
           {
            "colorbar": {
             "outlinewidth": 0,
             "ticks": ""
            },
            "type": "mesh3d"
           }
          ],
          "parcoords": [
           {
            "line": {
             "colorbar": {
              "outlinewidth": 0,
              "ticks": ""
             }
            },
            "type": "parcoords"
           }
          ],
          "pie": [
           {
            "automargin": true,
            "type": "pie"
           }
          ],
          "scatter": [
           {
            "marker": {
             "colorbar": {
              "outlinewidth": 0,
              "ticks": ""
             }
            },
            "type": "scatter"
           }
          ],
          "scatter3d": [
           {
            "line": {
             "colorbar": {
              "outlinewidth": 0,
              "ticks": ""
             }
            },
            "marker": {
             "colorbar": {
              "outlinewidth": 0,
              "ticks": ""
             }
            },
            "type": "scatter3d"
           }
          ],
          "scattercarpet": [
           {
            "marker": {
             "colorbar": {
              "outlinewidth": 0,
              "ticks": ""
             }
            },
            "type": "scattercarpet"
           }
          ],
          "scattergeo": [
           {
            "marker": {
             "colorbar": {
              "outlinewidth": 0,
              "ticks": ""
             }
            },
            "type": "scattergeo"
           }
          ],
          "scattergl": [
           {
            "marker": {
             "colorbar": {
              "outlinewidth": 0,
              "ticks": ""
             }
            },
            "type": "scattergl"
           }
          ],
          "scattermapbox": [
           {
            "marker": {
             "colorbar": {
              "outlinewidth": 0,
              "ticks": ""
             }
            },
            "type": "scattermapbox"
           }
          ],
          "scatterpolar": [
           {
            "marker": {
             "colorbar": {
              "outlinewidth": 0,
              "ticks": ""
             }
            },
            "type": "scatterpolar"
           }
          ],
          "scatterpolargl": [
           {
            "marker": {
             "colorbar": {
              "outlinewidth": 0,
              "ticks": ""
             }
            },
            "type": "scatterpolargl"
           }
          ],
          "scatterternary": [
           {
            "marker": {
             "colorbar": {
              "outlinewidth": 0,
              "ticks": ""
             }
            },
            "type": "scatterternary"
           }
          ],
          "surface": [
           {
            "colorbar": {
             "outlinewidth": 0,
             "ticks": ""
            },
            "colorscale": [
             [
              0,
              "#0d0887"
             ],
             [
              0.1111111111111111,
              "#46039f"
             ],
             [
              0.2222222222222222,
              "#7201a8"
             ],
             [
              0.3333333333333333,
              "#9c179e"
             ],
             [
              0.4444444444444444,
              "#bd3786"
             ],
             [
              0.5555555555555556,
              "#d8576b"
             ],
             [
              0.6666666666666666,
              "#ed7953"
             ],
             [
              0.7777777777777778,
              "#fb9f3a"
             ],
             [
              0.8888888888888888,
              "#fdca26"
             ],
             [
              1,
              "#f0f921"
             ]
            ],
            "type": "surface"
           }
          ],
          "table": [
           {
            "cells": {
             "fill": {
              "color": "#EBF0F8"
             },
             "line": {
              "color": "white"
             }
            },
            "header": {
             "fill": {
              "color": "#C8D4E3"
             },
             "line": {
              "color": "white"
             }
            },
            "type": "table"
           }
          ]
         },
         "layout": {
          "annotationdefaults": {
           "arrowcolor": "#2a3f5f",
           "arrowhead": 0,
           "arrowwidth": 1
          },
          "coloraxis": {
           "colorbar": {
            "outlinewidth": 0,
            "ticks": ""
           }
          },
          "colorscale": {
           "diverging": [
            [
             0,
             "#8e0152"
            ],
            [
             0.1,
             "#c51b7d"
            ],
            [
             0.2,
             "#de77ae"
            ],
            [
             0.3,
             "#f1b6da"
            ],
            [
             0.4,
             "#fde0ef"
            ],
            [
             0.5,
             "#f7f7f7"
            ],
            [
             0.6,
             "#e6f5d0"
            ],
            [
             0.7,
             "#b8e186"
            ],
            [
             0.8,
             "#7fbc41"
            ],
            [
             0.9,
             "#4d9221"
            ],
            [
             1,
             "#276419"
            ]
           ],
           "sequential": [
            [
             0,
             "#0d0887"
            ],
            [
             0.1111111111111111,
             "#46039f"
            ],
            [
             0.2222222222222222,
             "#7201a8"
            ],
            [
             0.3333333333333333,
             "#9c179e"
            ],
            [
             0.4444444444444444,
             "#bd3786"
            ],
            [
             0.5555555555555556,
             "#d8576b"
            ],
            [
             0.6666666666666666,
             "#ed7953"
            ],
            [
             0.7777777777777778,
             "#fb9f3a"
            ],
            [
             0.8888888888888888,
             "#fdca26"
            ],
            [
             1,
             "#f0f921"
            ]
           ],
           "sequentialminus": [
            [
             0,
             "#0d0887"
            ],
            [
             0.1111111111111111,
             "#46039f"
            ],
            [
             0.2222222222222222,
             "#7201a8"
            ],
            [
             0.3333333333333333,
             "#9c179e"
            ],
            [
             0.4444444444444444,
             "#bd3786"
            ],
            [
             0.5555555555555556,
             "#d8576b"
            ],
            [
             0.6666666666666666,
             "#ed7953"
            ],
            [
             0.7777777777777778,
             "#fb9f3a"
            ],
            [
             0.8888888888888888,
             "#fdca26"
            ],
            [
             1,
             "#f0f921"
            ]
           ]
          },
          "colorway": [
           "#636efa",
           "#EF553B",
           "#00cc96",
           "#ab63fa",
           "#FFA15A",
           "#19d3f3",
           "#FF6692",
           "#B6E880",
           "#FF97FF",
           "#FECB52"
          ],
          "font": {
           "color": "#2a3f5f"
          },
          "geo": {
           "bgcolor": "white",
           "lakecolor": "white",
           "landcolor": "#E5ECF6",
           "showlakes": true,
           "showland": true,
           "subunitcolor": "white"
          },
          "hoverlabel": {
           "align": "left"
          },
          "hovermode": "closest",
          "mapbox": {
           "style": "light"
          },
          "paper_bgcolor": "white",
          "plot_bgcolor": "#E5ECF6",
          "polar": {
           "angularaxis": {
            "gridcolor": "white",
            "linecolor": "white",
            "ticks": ""
           },
           "bgcolor": "#E5ECF6",
           "radialaxis": {
            "gridcolor": "white",
            "linecolor": "white",
            "ticks": ""
           }
          },
          "scene": {
           "xaxis": {
            "backgroundcolor": "#E5ECF6",
            "gridcolor": "white",
            "gridwidth": 2,
            "linecolor": "white",
            "showbackground": true,
            "ticks": "",
            "zerolinecolor": "white"
           },
           "yaxis": {
            "backgroundcolor": "#E5ECF6",
            "gridcolor": "white",
            "gridwidth": 2,
            "linecolor": "white",
            "showbackground": true,
            "ticks": "",
            "zerolinecolor": "white"
           },
           "zaxis": {
            "backgroundcolor": "#E5ECF6",
            "gridcolor": "white",
            "gridwidth": 2,
            "linecolor": "white",
            "showbackground": true,
            "ticks": "",
            "zerolinecolor": "white"
           }
          },
          "shapedefaults": {
           "line": {
            "color": "#2a3f5f"
           }
          },
          "ternary": {
           "aaxis": {
            "gridcolor": "white",
            "linecolor": "white",
            "ticks": ""
           },
           "baxis": {
            "gridcolor": "white",
            "linecolor": "white",
            "ticks": ""
           },
           "bgcolor": "#E5ECF6",
           "caxis": {
            "gridcolor": "white",
            "linecolor": "white",
            "ticks": ""
           }
          },
          "title": {
           "x": 0.05
          },
          "xaxis": {
           "automargin": true,
           "gridcolor": "white",
           "linecolor": "white",
           "ticks": "",
           "title": {
            "standoff": 15
           },
           "zerolinecolor": "white",
           "zerolinewidth": 2
          },
          "yaxis": {
           "automargin": true,
           "gridcolor": "white",
           "linecolor": "white",
           "ticks": "",
           "title": {
            "standoff": 15
           },
           "zerolinecolor": "white",
           "zerolinewidth": 2
          }
         }
        },
        "width": 700,
        "xaxis": {
         "automargin": true,
         "nticks": 40,
         "range": [
          -10,
          10
         ]
        },
        "yaxis": {
         "automargin": true,
         "nticks": 40,
         "range": [
          -10,
          10
         ]
        }
       }
      },
      "text/html": [
       "<div>\n",
       "        \n",
       "        \n",
       "            <div id=\"698392ea-6f17-48c7-b016-a510c0a3756d\" class=\"plotly-graph-div\" style=\"height:600px; width:700px;\"></div>\n",
       "            <script type=\"text/javascript\">\n",
       "                require([\"plotly\"], function(Plotly) {\n",
       "                    window.PLOTLYENV=window.PLOTLYENV || {};\n",
       "                    \n",
       "                if (document.getElementById(\"698392ea-6f17-48c7-b016-a510c0a3756d\")) {\n",
       "                    Plotly.newPlot(\n",
       "                        '698392ea-6f17-48c7-b016-a510c0a3756d',\n",
       "                        [{\"marker\": {\"color\": [\"rgb(80, 59, 46)\", \"rgb(80, 59, 46)\", \"rgb(120, 198, 121)\", \"rgb(120, 198, 121)\", \"rgb(168, 143, 66)\", \"rgb(120, 198, 121)\", \"rgb(168, 143, 66)\", \"rgb(168, 143, 66)\", \"rgb(120, 198, 121)\", \"rgb(80, 59, 46)\", \"rgb(168, 143, 66)\", \"rgb(168, 143, 66)\", \"rgb(80, 59, 46)\", \"rgb(168, 143, 66)\", \"rgb(168, 143, 66)\", \"rgb(168, 143, 66)\", \"rgb(80, 59, 46)\", \"rgb(168, 143, 66)\", \"rgb(120, 198, 121)\", \"rgb(168, 143, 66)\", \"rgb(80, 59, 46)\", \"rgb(120, 198, 121)\", \"rgb(80, 59, 46)\", \"rgb(168, 143, 66)\", \"rgb(168, 143, 66)\", \"rgb(168, 143, 66)\", \"rgb(80, 59, 46)\", \"rgb(120, 198, 121)\", \"rgb(120, 198, 121)\", \"rgb(120, 198, 121)\", \"rgb(80, 59, 46)\", \"rgb(168, 143, 66)\", \"rgb(120, 198, 121)\", \"rgb(80, 59, 46)\", \"rgb(168, 143, 66)\", \"rgb(168, 143, 66)\", \"rgb(120, 198, 121)\", \"rgb(120, 198, 121)\", \"rgb(168, 143, 66)\", \"rgb(168, 143, 66)\", \"rgb(168, 143, 66)\", \"rgb(120, 198, 121)\", \"rgb(120, 198, 121)\", \"rgb(120, 198, 121)\", \"rgb(120, 198, 121)\", \"rgb(80, 59, 46)\", \"rgb(168, 143, 66)\", \"rgb(168, 143, 66)\", \"rgb(168, 143, 66)\", \"rgb(168, 143, 66)\", \"rgb(168, 143, 66)\", \"rgb(168, 143, 66)\", \"rgb(168, 143, 66)\", \"rgb(80, 59, 46)\", \"rgb(168, 143, 66)\", \"rgb(80, 59, 46)\", \"rgb(80, 59, 46)\", \"rgb(120, 198, 121)\", \"rgb(168, 143, 66)\", \"rgb(80, 59, 46)\", \"rgb(80, 59, 46)\", \"rgb(80, 59, 46)\", \"rgb(168, 143, 66)\", \"rgb(120, 198, 121)\", \"rgb(80, 59, 46)\", \"rgb(168, 143, 66)\", \"rgb(120, 198, 121)\", \"rgb(168, 143, 66)\", \"rgb(168, 143, 66)\", \"rgb(120, 198, 121)\", \"rgb(120, 198, 121)\", \"rgb(80, 59, 46)\", \"rgb(120, 198, 121)\", \"rgb(120, 198, 121)\", \"rgb(80, 59, 46)\", \"rgb(168, 143, 66)\", \"rgb(80, 59, 46)\", \"rgb(168, 143, 66)\", \"rgb(168, 143, 66)\", \"rgb(80, 59, 46)\", \"rgb(168, 143, 66)\", \"rgb(120, 198, 121)\", \"rgb(120, 198, 121)\", \"rgb(120, 198, 121)\", \"rgb(80, 59, 46)\"], \"size\": 50, \"sizeref\": 0.008, \"symbol\": \"asterisk-open\"}, \"mode\": \"markers\", \"type\": \"scatter\", \"x\": [-9, -9, -9, -8, -8, -8, -8, -8, -8, -8, -7, -7, -7, -7, -7, -6, -6, -6, -6, -6, -6, -5, -5, -5, -4, -4, -3, -3, -3, -3, -2, -2, -1, -1, -1, -1, 0, 0, 0, 0, 0, 1, 1, 1, 1, 1, 2, 2, 2, 3, 3, 3, 3, 4, 4, 4, 4, 4, 4, 4, 4, 5, 5, 5, 5, 5, 5, 5, 5, 6, 6, 6, 7, 7, 7, 7, 7, 7, 8, 8, 8, 8, 8, 8, 8], \"y\": [-8, -4, 4, -9, -6, -3, -2, 1, 5, 6, -8, -7, 1, 4, 7, -7, -6, -4, 1, 4, 6, -8, -6, 6, 2, 7, -4, -2, 1, 8, -3, 5, -3, 3, 5, 7, -3, -1, 2, 3, 6, -9, -6, -3, 6, 7, -9, -8, 3, -7, -5, -3, -2, -8, -7, -5, -4, -1, 0, 4, 5, -9, -8, -6, -1, 3, 6, 7, 8, -2, 4, 5, -9, -3, -1, 3, 5, 7, -9, -8, -6, -3, 0, 3, 6]}, {\"marker\": {\"color\": \"rgb(209, 175, 232)\", \"line\": {\"color\": \"rgb(140, 140, 170)\"}, \"size\": 50, \"sizeref\": 0.008}, \"mode\": \"markers\", \"text\": \"Blobble\", \"type\": \"scatter\", \"x\": [0], \"y\": [-1]}],\n",
       "                        {\"height\": 600, \"margin\": {\"b\": 10, \"l\": 80, \"r\": 40, \"t\": 10}, \"template\": {\"data\": {\"bar\": [{\"error_x\": {\"color\": \"#2a3f5f\"}, \"error_y\": {\"color\": \"#2a3f5f\"}, \"marker\": {\"line\": {\"color\": \"#E5ECF6\", \"width\": 0.5}}, \"type\": \"bar\"}], \"barpolar\": [{\"marker\": {\"line\": {\"color\": \"#E5ECF6\", \"width\": 0.5}}, \"type\": \"barpolar\"}], \"carpet\": [{\"aaxis\": {\"endlinecolor\": \"#2a3f5f\", \"gridcolor\": \"white\", \"linecolor\": \"white\", \"minorgridcolor\": \"white\", \"startlinecolor\": \"#2a3f5f\"}, \"baxis\": {\"endlinecolor\": \"#2a3f5f\", \"gridcolor\": \"white\", \"linecolor\": \"white\", \"minorgridcolor\": \"white\", \"startlinecolor\": \"#2a3f5f\"}, \"type\": \"carpet\"}], \"choropleth\": [{\"colorbar\": {\"outlinewidth\": 0, \"ticks\": \"\"}, \"type\": \"choropleth\"}], \"contour\": [{\"colorbar\": {\"outlinewidth\": 0, \"ticks\": \"\"}, \"colorscale\": [[0.0, \"#0d0887\"], [0.1111111111111111, \"#46039f\"], [0.2222222222222222, \"#7201a8\"], [0.3333333333333333, \"#9c179e\"], [0.4444444444444444, \"#bd3786\"], [0.5555555555555556, \"#d8576b\"], [0.6666666666666666, \"#ed7953\"], [0.7777777777777778, \"#fb9f3a\"], [0.8888888888888888, \"#fdca26\"], [1.0, \"#f0f921\"]], \"type\": \"contour\"}], \"contourcarpet\": [{\"colorbar\": {\"outlinewidth\": 0, \"ticks\": \"\"}, \"type\": \"contourcarpet\"}], \"heatmap\": [{\"colorbar\": {\"outlinewidth\": 0, \"ticks\": \"\"}, \"colorscale\": [[0.0, \"#0d0887\"], [0.1111111111111111, \"#46039f\"], [0.2222222222222222, \"#7201a8\"], [0.3333333333333333, \"#9c179e\"], [0.4444444444444444, \"#bd3786\"], [0.5555555555555556, \"#d8576b\"], [0.6666666666666666, \"#ed7953\"], [0.7777777777777778, \"#fb9f3a\"], [0.8888888888888888, \"#fdca26\"], [1.0, \"#f0f921\"]], \"type\": \"heatmap\"}], \"heatmapgl\": [{\"colorbar\": {\"outlinewidth\": 0, \"ticks\": \"\"}, \"colorscale\": [[0.0, \"#0d0887\"], [0.1111111111111111, \"#46039f\"], [0.2222222222222222, \"#7201a8\"], [0.3333333333333333, \"#9c179e\"], [0.4444444444444444, \"#bd3786\"], [0.5555555555555556, \"#d8576b\"], [0.6666666666666666, \"#ed7953\"], [0.7777777777777778, \"#fb9f3a\"], [0.8888888888888888, \"#fdca26\"], [1.0, \"#f0f921\"]], \"type\": \"heatmapgl\"}], \"histogram\": [{\"marker\": {\"colorbar\": {\"outlinewidth\": 0, \"ticks\": \"\"}}, \"type\": \"histogram\"}], \"histogram2d\": [{\"colorbar\": {\"outlinewidth\": 0, \"ticks\": \"\"}, \"colorscale\": [[0.0, \"#0d0887\"], [0.1111111111111111, \"#46039f\"], [0.2222222222222222, \"#7201a8\"], [0.3333333333333333, \"#9c179e\"], [0.4444444444444444, \"#bd3786\"], [0.5555555555555556, \"#d8576b\"], [0.6666666666666666, \"#ed7953\"], [0.7777777777777778, \"#fb9f3a\"], [0.8888888888888888, \"#fdca26\"], [1.0, \"#f0f921\"]], \"type\": \"histogram2d\"}], \"histogram2dcontour\": [{\"colorbar\": {\"outlinewidth\": 0, \"ticks\": \"\"}, \"colorscale\": [[0.0, \"#0d0887\"], [0.1111111111111111, \"#46039f\"], [0.2222222222222222, \"#7201a8\"], [0.3333333333333333, \"#9c179e\"], [0.4444444444444444, \"#bd3786\"], [0.5555555555555556, \"#d8576b\"], [0.6666666666666666, \"#ed7953\"], [0.7777777777777778, \"#fb9f3a\"], [0.8888888888888888, \"#fdca26\"], [1.0, \"#f0f921\"]], \"type\": \"histogram2dcontour\"}], \"mesh3d\": [{\"colorbar\": {\"outlinewidth\": 0, \"ticks\": \"\"}, \"type\": \"mesh3d\"}], \"parcoords\": [{\"line\": {\"colorbar\": {\"outlinewidth\": 0, \"ticks\": \"\"}}, \"type\": \"parcoords\"}], \"pie\": [{\"automargin\": true, \"type\": \"pie\"}], \"scatter\": [{\"marker\": {\"colorbar\": {\"outlinewidth\": 0, \"ticks\": \"\"}}, \"type\": \"scatter\"}], \"scatter3d\": [{\"line\": {\"colorbar\": {\"outlinewidth\": 0, \"ticks\": \"\"}}, \"marker\": {\"colorbar\": {\"outlinewidth\": 0, \"ticks\": \"\"}}, \"type\": \"scatter3d\"}], \"scattercarpet\": [{\"marker\": {\"colorbar\": {\"outlinewidth\": 0, \"ticks\": \"\"}}, \"type\": \"scattercarpet\"}], \"scattergeo\": [{\"marker\": {\"colorbar\": {\"outlinewidth\": 0, \"ticks\": \"\"}}, \"type\": \"scattergeo\"}], \"scattergl\": [{\"marker\": {\"colorbar\": {\"outlinewidth\": 0, \"ticks\": \"\"}}, \"type\": \"scattergl\"}], \"scattermapbox\": [{\"marker\": {\"colorbar\": {\"outlinewidth\": 0, \"ticks\": \"\"}}, \"type\": \"scattermapbox\"}], \"scatterpolar\": [{\"marker\": {\"colorbar\": {\"outlinewidth\": 0, \"ticks\": \"\"}}, \"type\": \"scatterpolar\"}], \"scatterpolargl\": [{\"marker\": {\"colorbar\": {\"outlinewidth\": 0, \"ticks\": \"\"}}, \"type\": \"scatterpolargl\"}], \"scatterternary\": [{\"marker\": {\"colorbar\": {\"outlinewidth\": 0, \"ticks\": \"\"}}, \"type\": \"scatterternary\"}], \"surface\": [{\"colorbar\": {\"outlinewidth\": 0, \"ticks\": \"\"}, \"colorscale\": [[0.0, \"#0d0887\"], [0.1111111111111111, \"#46039f\"], [0.2222222222222222, \"#7201a8\"], [0.3333333333333333, \"#9c179e\"], [0.4444444444444444, \"#bd3786\"], [0.5555555555555556, \"#d8576b\"], [0.6666666666666666, \"#ed7953\"], [0.7777777777777778, \"#fb9f3a\"], [0.8888888888888888, \"#fdca26\"], [1.0, \"#f0f921\"]], \"type\": \"surface\"}], \"table\": [{\"cells\": {\"fill\": {\"color\": \"#EBF0F8\"}, \"line\": {\"color\": \"white\"}}, \"header\": {\"fill\": {\"color\": \"#C8D4E3\"}, \"line\": {\"color\": \"white\"}}, \"type\": \"table\"}]}, \"layout\": {\"annotationdefaults\": {\"arrowcolor\": \"#2a3f5f\", \"arrowhead\": 0, \"arrowwidth\": 1}, \"coloraxis\": {\"colorbar\": {\"outlinewidth\": 0, \"ticks\": \"\"}}, \"colorscale\": {\"diverging\": [[0, \"#8e0152\"], [0.1, \"#c51b7d\"], [0.2, \"#de77ae\"], [0.3, \"#f1b6da\"], [0.4, \"#fde0ef\"], [0.5, \"#f7f7f7\"], [0.6, \"#e6f5d0\"], [0.7, \"#b8e186\"], [0.8, \"#7fbc41\"], [0.9, \"#4d9221\"], [1, \"#276419\"]], \"sequential\": [[0.0, \"#0d0887\"], [0.1111111111111111, \"#46039f\"], [0.2222222222222222, \"#7201a8\"], [0.3333333333333333, \"#9c179e\"], [0.4444444444444444, \"#bd3786\"], [0.5555555555555556, \"#d8576b\"], [0.6666666666666666, \"#ed7953\"], [0.7777777777777778, \"#fb9f3a\"], [0.8888888888888888, \"#fdca26\"], [1.0, \"#f0f921\"]], \"sequentialminus\": [[0.0, \"#0d0887\"], [0.1111111111111111, \"#46039f\"], [0.2222222222222222, \"#7201a8\"], [0.3333333333333333, \"#9c179e\"], [0.4444444444444444, \"#bd3786\"], [0.5555555555555556, \"#d8576b\"], [0.6666666666666666, \"#ed7953\"], [0.7777777777777778, \"#fb9f3a\"], [0.8888888888888888, \"#fdca26\"], [1.0, \"#f0f921\"]]}, \"colorway\": [\"#636efa\", \"#EF553B\", \"#00cc96\", \"#ab63fa\", \"#FFA15A\", \"#19d3f3\", \"#FF6692\", \"#B6E880\", \"#FF97FF\", \"#FECB52\"], \"font\": {\"color\": \"#2a3f5f\"}, \"geo\": {\"bgcolor\": \"white\", \"lakecolor\": \"white\", \"landcolor\": \"#E5ECF6\", \"showlakes\": true, \"showland\": true, \"subunitcolor\": \"white\"}, \"hoverlabel\": {\"align\": \"left\"}, \"hovermode\": \"closest\", \"mapbox\": {\"style\": \"light\"}, \"paper_bgcolor\": \"white\", \"plot_bgcolor\": \"#E5ECF6\", \"polar\": {\"angularaxis\": {\"gridcolor\": \"white\", \"linecolor\": \"white\", \"ticks\": \"\"}, \"bgcolor\": \"#E5ECF6\", \"radialaxis\": {\"gridcolor\": \"white\", \"linecolor\": \"white\", \"ticks\": \"\"}}, \"scene\": {\"xaxis\": {\"backgroundcolor\": \"#E5ECF6\", \"gridcolor\": \"white\", \"gridwidth\": 2, \"linecolor\": \"white\", \"showbackground\": true, \"ticks\": \"\", \"zerolinecolor\": \"white\"}, \"yaxis\": {\"backgroundcolor\": \"#E5ECF6\", \"gridcolor\": \"white\", \"gridwidth\": 2, \"linecolor\": \"white\", \"showbackground\": true, \"ticks\": \"\", \"zerolinecolor\": \"white\"}, \"zaxis\": {\"backgroundcolor\": \"#E5ECF6\", \"gridcolor\": \"white\", \"gridwidth\": 2, \"linecolor\": \"white\", \"showbackground\": true, \"ticks\": \"\", \"zerolinecolor\": \"white\"}}, \"shapedefaults\": {\"line\": {\"color\": \"#2a3f5f\"}}, \"ternary\": {\"aaxis\": {\"gridcolor\": \"white\", \"linecolor\": \"white\", \"ticks\": \"\"}, \"baxis\": {\"gridcolor\": \"white\", \"linecolor\": \"white\", \"ticks\": \"\"}, \"bgcolor\": \"#E5ECF6\", \"caxis\": {\"gridcolor\": \"white\", \"linecolor\": \"white\", \"ticks\": \"\"}}, \"title\": {\"x\": 0.05}, \"xaxis\": {\"automargin\": true, \"gridcolor\": \"white\", \"linecolor\": \"white\", \"ticks\": \"\", \"title\": {\"standoff\": 15}, \"zerolinecolor\": \"white\", \"zerolinewidth\": 2}, \"yaxis\": {\"automargin\": true, \"gridcolor\": \"white\", \"linecolor\": \"white\", \"ticks\": \"\", \"title\": {\"standoff\": 15}, \"zerolinecolor\": \"white\", \"zerolinewidth\": 2}}}, \"width\": 700, \"xaxis\": {\"automargin\": true, \"nticks\": 40, \"range\": [-10, 10]}, \"yaxis\": {\"automargin\": true, \"nticks\": 40, \"range\": [-10, 10]}},\n",
       "                        {\"responsive\": true}\n",
       "                    ).then(function(){\n",
       "                            \n",
       "var gd = document.getElementById('698392ea-6f17-48c7-b016-a510c0a3756d');\n",
       "var x = new MutationObserver(function (mutations, observer) {{\n",
       "        var display = window.getComputedStyle(gd).display;\n",
       "        if (!display || display === 'none') {{\n",
       "            console.log([gd, 'removed!']);\n",
       "            Plotly.purge(gd);\n",
       "            observer.disconnect();\n",
       "        }}\n",
       "}});\n",
       "\n",
       "// Listen for the removal of the full notebook cells\n",
       "var notebookContainer = gd.closest('#notebook-container');\n",
       "if (notebookContainer) {{\n",
       "    x.observe(notebookContainer, {childList: true});\n",
       "}}\n",
       "\n",
       "// Listen for the clearing of the current output cell\n",
       "var outputEl = gd.closest('.output');\n",
       "if (outputEl) {{\n",
       "    x.observe(outputEl, {childList: true});\n",
       "}}\n",
       "\n",
       "                        })\n",
       "                };\n",
       "                });\n",
       "            </script>\n",
       "        </div>"
      ]
     },
     "metadata": {},
     "output_type": "display_data"
    }
   ],
   "source": [
    "img_as_np = blobble_env.render()"
   ]
  },
  {
   "cell_type": "code",
   "execution_count": 7,
   "metadata": {},
   "outputs": [],
   "source": [
    "import imageio as imageio\n",
    "import base64\n",
    "import IPython\n",
    "\n",
    "def embed_mp4(filename):\n",
    "    \"\"\"Embeds an mp4 file in the notebook.\"\"\"\n",
    "    video = open(filename,'rb').read()\n",
    "    \n",
    "    b64 = base64.b64encode(video)\n",
    "    tag = '''\n",
    "    <video width=\"640\" height=\"480\" controls>\n",
    "    <source src=\"data:video/mp4;base64,{0}\" type=\"video/mp4\">\n",
    "    Your browser does not support the video tag.\n",
    "    </video>'''.format(b64.decode())\n",
    "    return IPython.display.HTML(tag)\n",
    "\n"
   ]
  },
  {
   "cell_type": "code",
   "execution_count": 8,
   "metadata": {},
   "outputs": [],
   "source": [
    "max_step = 10\n",
    "\n",
    "def create_blobble_video(video_filename, num_episodes=1, fps=30, max_iterations = 10):\n",
    "    filename = video_filename + \".mp4\"\n",
    "    blobble_env = BlobbleEnv()\n",
    "    \n",
    "    with imageio.get_writer(filename, fps=fps) as video:\n",
    "        for _ in range(num_episodes):\n",
    "            blobble_env.reset()\n",
    "            #video.append_data(blobble_env.render())\n",
    "            for _ in range(max_iterations):\n",
    "                #while not blobble_env.step_is_last():\n",
    "                # action_step = blobble_env.action(time_step)\n",
    "                \n",
    "                action = {\n",
    "                    'movement' : [np.random.randint(-1, 1), \n",
    "                                  np.random.randint(-1, 1)],\n",
    "                    'eat' : True\n",
    "                    }\n",
    "                print('Next Action: ', action)\n",
    "                blobble_env.step(action)\n",
    "                blobble_env.render_print()\n",
    "                video.append_data(blobble_env.render(mode='rgb'))\n",
    "        return embed_mp4(filename)"
   ]
  },
  {
   "cell_type": "code",
   "execution_count": 9,
   "metadata": {},
   "outputs": [
    {
     "name": "stdout",
     "output_type": "stream",
     "text": [
      "Next Action:  {'movement': [-1, 0], 'eat': True}\n",
      "Blobble details are:\n",
      "  Health:  7\n",
      "  Position x :  -1\n",
      "  Position y :  0\n",
      "  Remaining food : 90\n",
      "Next Action:  {'movement': [0, 0], 'eat': True}\n",
      "Blobble details are:\n",
      "  Health:  9\n",
      "  Position x :  -1\n",
      "  Position y :  0\n",
      "  Remaining food : 90\n",
      "Next Action:  {'movement': [0, 0], 'eat': True}\n",
      "Blobble details are:\n",
      "  Health:  8\n",
      "  Position x :  -1\n",
      "  Position y :  0\n",
      "  Remaining food : 90\n",
      "Next Action:  {'movement': [-1, -1], 'eat': True}\n",
      "Blobble details are:\n",
      "  Health:  10\n",
      "  Position x :  -2\n",
      "  Position y :  -1\n",
      "  Remaining food : 90\n",
      "Next Action:  {'movement': [0, -1], 'eat': True}\n",
      "yum\n",
      "Blobble details are:\n",
      "  Health:  8\n",
      "  Position x :  -2\n",
      "  Position y :  -2\n",
      "  Remaining food : 89\n",
      "Next Action:  {'movement': [0, 0], 'eat': True}\n",
      "Blobble details are:\n",
      "  Health:  9\n",
      "  Position x :  -2\n",
      "  Position y :  -2\n",
      "  Remaining food : 89\n",
      "Next Action:  {'movement': [-1, -1], 'eat': True}\n",
      "Blobble details are:\n",
      "  Health:  9\n",
      "  Position x :  -3\n",
      "  Position y :  -3\n",
      "  Remaining food : 89\n",
      "Next Action:  {'movement': [0, -1], 'eat': True}\n",
      "Blobble details are:\n",
      "  Health:  8\n",
      "  Position x :  -3\n",
      "  Position y :  -4\n",
      "  Remaining food : 89\n",
      "Next Action:  {'movement': [0, -1], 'eat': True}\n",
      "Blobble details are:\n",
      "  Health:  10\n",
      "  Position x :  -3\n",
      "  Position y :  -5\n",
      "  Remaining food : 89\n",
      "Next Action:  {'movement': [0, 0], 'eat': True}\n",
      "yum\n",
      "Blobble details are:\n",
      "  Health:  9\n",
      "  Position x :  -3\n",
      "  Position y :  -5\n",
      "  Remaining food : 88\n",
      "Next Action:  {'movement': [0, -1], 'eat': True}\n",
      "Blobble details are:\n",
      "  Health:  10\n",
      "  Position x :  -3\n",
      "  Position y :  -6\n",
      "  Remaining food : 88\n",
      "Next Action:  {'movement': [-1, -1], 'eat': True}\n",
      "Blobble details are:\n",
      "  Health:  8\n",
      "  Position x :  -4\n",
      "  Position y :  -7\n",
      "  Remaining food : 88\n",
      "Next Action:  {'movement': [0, 0], 'eat': True}\n",
      "Blobble details are:\n",
      "  Health:  7\n",
      "  Position x :  -4\n",
      "  Position y :  -7\n",
      "  Remaining food : 88\n",
      "Next Action:  {'movement': [0, 0], 'eat': True}\n",
      "Blobble details are:\n",
      "  Health:  8\n",
      "  Position x :  -4\n",
      "  Position y :  -7\n",
      "  Remaining food : 88\n",
      "Next Action:  {'movement': [-1, -1], 'eat': True}\n",
      "Blobble details are:\n",
      "  Health:  5\n",
      "  Position x :  -5\n",
      "  Position y :  -8\n",
      "  Remaining food : 88\n",
      "Next Action:  {'movement': [-1, 0], 'eat': True}\n",
      "Blobble details are:\n",
      "  Health:  6\n",
      "  Position x :  -6\n",
      "  Position y :  -8\n",
      "  Remaining food : 88\n",
      "Next Action:  {'movement': [0, -1], 'eat': True}\n",
      "Blobble details are:\n",
      "  Health:  4\n",
      "  Position x :  -6\n",
      "  Position y :  -9\n",
      "  Remaining food : 88\n",
      "Next Action:  {'movement': [-1, 0], 'eat': True}\n",
      "Blobble details are:\n",
      "  Health:  4\n",
      "  Position x :  -7\n",
      "  Position y :  -9\n",
      "  Remaining food : 88\n",
      "Next Action:  {'movement': [0, 0], 'eat': True}\n",
      "yum\n",
      "Blobble details are:\n",
      "  Health:  6\n",
      "  Position x :  -7\n",
      "  Position y :  -9\n",
      "  Remaining food : 87\n",
      "Next Action:  {'movement': [0, -1], 'eat': True}\n",
      "Blobble details are:\n",
      "  Health:  6\n",
      "  Position x :  -7\n",
      "  Position y :  -10\n",
      "  Remaining food : 87\n",
      "Next Action:  {'movement': [-1, 0], 'eat': True}\n",
      "Blobble details are:\n",
      "  Health:  7\n",
      "  Position x :  -8\n",
      "  Position y :  -10\n",
      "  Remaining food : 87\n",
      "Next Action:  {'movement': [-1, -1], 'eat': True}\n",
      "Blobble details are:\n",
      "  Health:  6\n",
      "  Position x :  -9\n",
      "  Position y :  -9\n",
      "  Remaining food : 87\n",
      "Next Action:  {'movement': [0, 0], 'eat': True}\n",
      "yum\n",
      "Blobble details are:\n",
      "  Health:  7\n",
      "  Position x :  -9\n",
      "  Position y :  -9\n",
      "  Remaining food : 86\n",
      "Next Action:  {'movement': [-1, -1], 'eat': True}\n",
      "Blobble details are:\n",
      "  Health:  8\n",
      "  Position x :  -10\n",
      "  Position y :  -10\n",
      "  Remaining food : 86\n",
      "Next Action:  {'movement': [-1, 0], 'eat': True}\n",
      "Blobble details are:\n",
      "  Health:  9\n",
      "  Position x :  -9\n",
      "  Position y :  -10\n",
      "  Remaining food : 86\n",
      "Next Action:  {'movement': [-1, -1], 'eat': True}\n",
      "Blobble details are:\n",
      "  Health:  7\n",
      "  Position x :  -10\n",
      "  Position y :  -9\n",
      "  Remaining food : 86\n",
      "Next Action:  {'movement': [-1, 0], 'eat': True}\n",
      "Blobble details are:\n",
      "  Health:  5\n",
      "  Position x :  -9\n",
      "  Position y :  -9\n",
      "  Remaining food : 86\n",
      "Next Action:  {'movement': [-1, 0], 'eat': True}\n",
      "Blobble details are:\n",
      "  Health:  4\n",
      "  Position x :  -10\n",
      "  Position y :  -9\n",
      "  Remaining food : 86\n",
      "Next Action:  {'movement': [-1, 0], 'eat': True}\n",
      "Blobble details are:\n",
      "  Health:  1\n",
      "  Position x :  -9\n",
      "  Position y :  -9\n",
      "  Remaining food : 86\n",
      "Next Action:  {'movement': [-1, 0], 'eat': True}\n",
      "Blobble details are:\n",
      "  Health:  0\n",
      "  Position x :  -10\n",
      "  Position y :  -9\n",
      "  Remaining food : 86\n",
      "Next Action:  {'movement': [0, 0], 'eat': True}\n",
      "Blobble details are:\n",
      "  Health:  0\n",
      "  Position x :  -10\n",
      "  Position y :  -9\n",
      "  Remaining food : 86\n",
      "Next Action:  {'movement': [0, 0], 'eat': True}\n",
      "Blobble details are:\n",
      "  Health:  0\n",
      "  Position x :  -10\n",
      "  Position y :  -9\n",
      "  Remaining food : 86\n",
      "Next Action:  {'movement': [0, 0], 'eat': True}\n",
      "Blobble details are:\n",
      "  Health:  0\n",
      "  Position x :  -10\n",
      "  Position y :  -9\n",
      "  Remaining food : 86\n",
      "Next Action:  {'movement': [0, 0], 'eat': True}\n",
      "Blobble details are:\n",
      "  Health:  2\n",
      "  Position x :  -10\n",
      "  Position y :  -9\n",
      "  Remaining food : 86\n",
      "Next Action:  {'movement': [-1, -1], 'eat': True}\n",
      "Blobble details are:\n",
      "  Health:  1\n",
      "  Position x :  -9\n",
      "  Position y :  -10\n",
      "  Remaining food : 86\n",
      "Next Action:  {'movement': [-1, 0], 'eat': True}\n",
      "Blobble details are:\n",
      "  Health:  0\n",
      "  Position x :  -10\n",
      "  Position y :  -10\n",
      "  Remaining food : 86\n",
      "Next Action:  {'movement': [0, -1], 'eat': True}\n",
      "Blobble details are:\n",
      "  Health:  0\n",
      "  Position x :  -10\n",
      "  Position y :  -9\n",
      "  Remaining food : 86\n",
      "Next Action:  {'movement': [-1, -1], 'eat': True}\n",
      "Blobble details are:\n",
      "  Health:  0\n",
      "  Position x :  -9\n",
      "  Position y :  -10\n",
      "  Remaining food : 86\n",
      "Next Action:  {'movement': [-1, 0], 'eat': True}\n",
      "Blobble details are:\n",
      "  Health:  2\n",
      "  Position x :  -10\n",
      "  Position y :  -10\n",
      "  Remaining food : 86\n",
      "Next Action:  {'movement': [0, 0], 'eat': True}\n",
      "Blobble details are:\n",
      "  Health:  1\n",
      "  Position x :  -10\n",
      "  Position y :  -10\n",
      "  Remaining food : 86\n",
      "Next Action:  {'movement': [-1, 0], 'eat': True}\n",
      "Blobble details are:\n",
      "  Health:  0\n",
      "  Position x :  -9\n",
      "  Position y :  -10\n",
      "  Remaining food : 86\n",
      "Next Action:  {'movement': [-1, -1], 'eat': True}\n",
      "Blobble details are:\n",
      "  Health:  0\n",
      "  Position x :  -10\n",
      "  Position y :  -9\n",
      "  Remaining food : 86\n",
      "Next Action:  {'movement': [0, -1], 'eat': True}\n",
      "Blobble details are:\n",
      "  Health:  0\n",
      "  Position x :  -10\n",
      "  Position y :  -10\n",
      "  Remaining food : 86\n",
      "Next Action:  {'movement': [0, 0], 'eat': True}\n",
      "Blobble details are:\n",
      "  Health:  0\n",
      "  Position x :  -10\n",
      "  Position y :  -10\n",
      "  Remaining food : 86\n",
      "Next Action:  {'movement': [0, 0], 'eat': True}\n",
      "Blobble details are:\n",
      "  Health:  2\n",
      "  Position x :  -10\n",
      "  Position y :  -10\n",
      "  Remaining food : 86\n",
      "Next Action:  {'movement': [-1, -1], 'eat': True}\n",
      "Blobble details are:\n",
      "  Health:  4\n",
      "  Position x :  -9\n",
      "  Position y :  -9\n",
      "  Remaining food : 86\n",
      "Next Action:  {'movement': [0, 0], 'eat': True}\n",
      "Blobble details are:\n",
      "  Health:  4\n",
      "  Position x :  -9\n",
      "  Position y :  -9\n",
      "  Remaining food : 86\n",
      "Next Action:  {'movement': [-1, 0], 'eat': True}\n",
      "Blobble details are:\n",
      "  Health:  1\n",
      "  Position x :  -10\n",
      "  Position y :  -9\n",
      "  Remaining food : 86\n",
      "Next Action:  {'movement': [-1, 0], 'eat': True}\n",
      "Blobble details are:\n",
      "  Health:  0\n",
      "  Position x :  -9\n",
      "  Position y :  -9\n",
      "  Remaining food : 86\n",
      "Next Action:  {'movement': [-1, -1], 'eat': True}\n",
      "Blobble details are:\n",
      "  Health:  0\n",
      "  Position x :  -10\n",
      "  Position y :  -10\n",
      "  Remaining food : 86\n"
     ]
    },
    {
     "data": {
      "text/html": [
       "\n",
       "    <video width=\"640\" height=\"480\" controls>\n",
       "    <source src=\"data:video/mp4;base64,AAAAIGZ0eXBpc29tAAACAGlzb21pc28yYXZjMW1wNDEAAAAIZnJlZQAAAABtZGF0\" type=\"video/mp4\">\n",
       "    Your browser does not support the video tag.\n",
       "    </video>"
      ],
      "text/plain": [
       "<IPython.core.display.HTML object>"
      ]
     },
     "execution_count": 9,
     "metadata": {},
     "output_type": "execute_result"
    }
   ],
   "source": [
    "create_blobble_video('blobble_video', fps=2, max_iterations = 50)"
   ]
  },
  {
   "cell_type": "code",
   "execution_count": null,
   "metadata": {},
   "outputs": [],
   "source": []
  }
 ],
 "metadata": {
  "kernelspec": {
   "display_name": "Plotly",
   "language": "python",
   "name": "ployly"
  },
  "language_info": {
   "codemirror_mode": {
    "name": "ipython",
    "version": 3
   },
   "file_extension": ".py",
   "mimetype": "text/x-python",
   "name": "python",
   "nbconvert_exporter": "python",
   "pygments_lexer": "ipython3",
   "version": "3.8.2"
  }
 },
 "nbformat": 4,
 "nbformat_minor": 4
}
